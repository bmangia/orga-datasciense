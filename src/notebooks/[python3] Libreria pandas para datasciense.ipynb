{
 "cells": [
  {
   "cell_type": "markdown",
   "metadata": {},
   "source": [
    "# Probando libreria Pandas de Python\n",
    "\n",
    "## Introducción\n",
    "\n",
    "Tener en cuenta que para este notebook los datos se encuentran dentro este mismo directorio dentro de la carpeta /data que no se incluye en el repositorio porque es muy pesada y no vale la pena alojar estos archivos. <b>Copiar el train.csv y test.csv dentro de la carpeta data</b><br>\n",
    "Se intentará hacer un mini análisis de los datos para ver que es lo que tenemos a partir de la librería Pandas de Python. <br>\n",
    "Esta librería la encontré en Kaggle.\n",
    "\n",
    "## Desarrollo"
   ]
  },
  {
   "cell_type": "code",
   "execution_count": 33,
   "metadata": {
    "collapsed": false
   },
   "outputs": [],
   "source": [
    "import pandas as pd"
   ]
  },
  {
   "cell_type": "markdown",
   "metadata": {},
   "source": [
    "Que tenemos?"
   ]
  },
  {
   "cell_type": "code",
   "execution_count": 79,
   "metadata": {
    "collapsed": false
   },
   "outputs": [
    {
     "data": {
      "text/html": [
       "<div>\n",
       "<table border=\"1\" class=\"dataframe\">\n",
       "  <thead>\n",
       "    <tr style=\"text-align: right;\">\n",
       "      <th></th>\n",
       "      <th>ProductId</th>\n",
       "      <th>UserId</th>\n",
       "      <th>ProfileName</th>\n",
       "      <th>HelpfulnessNumerator</th>\n",
       "      <th>HelpfulnessDenominator</th>\n",
       "      <th>Prediction</th>\n",
       "      <th>Time</th>\n",
       "      <th>Summary</th>\n",
       "      <th>Text</th>\n",
       "    </tr>\n",
       "    <tr>\n",
       "      <th>Id</th>\n",
       "      <th></th>\n",
       "      <th></th>\n",
       "      <th></th>\n",
       "      <th></th>\n",
       "      <th></th>\n",
       "      <th></th>\n",
       "      <th></th>\n",
       "      <th></th>\n",
       "      <th></th>\n",
       "    </tr>\n",
       "  </thead>\n",
       "  <tbody>\n",
       "    <tr>\n",
       "      <th>492346</th>\n",
       "      <td>B001VNP0Y6</td>\n",
       "      <td>AEZRVY3CV52UZ</td>\n",
       "      <td>Corey Wright \"Democratus\"</td>\n",
       "      <td>3</td>\n",
       "      <td>3</td>\n",
       "      <td>5</td>\n",
       "      <td>1320537600</td>\n",
       "      <td>Just what I needed</td>\n",
       "      <td>I got them in a very timely manner and they're...</td>\n",
       "    </tr>\n",
       "    <tr>\n",
       "      <th>343811</th>\n",
       "      <td>B008J1HO4C</td>\n",
       "      <td>A18VZYSLOUO060</td>\n",
       "      <td>D. Simpson \"Frugal SOB\"</td>\n",
       "      <td>2</td>\n",
       "      <td>2</td>\n",
       "      <td>5</td>\n",
       "      <td>1204329600</td>\n",
       "      <td>Most excellent oatmeal</td>\n",
       "      <td>McCann's Steel Cut Oatmeal is the perfect brea...</td>\n",
       "    </tr>\n",
       "    <tr>\n",
       "      <th>347257</th>\n",
       "      <td>B000FFIL60</td>\n",
       "      <td>A28Y1M7GRG0I9M</td>\n",
       "      <td>Real Comments \"Lin\"</td>\n",
       "      <td>0</td>\n",
       "      <td>0</td>\n",
       "      <td>4</td>\n",
       "      <td>1318464000</td>\n",
       "      <td>Quality Tea</td>\n",
       "      <td>I would recommend it. Quality pearls and a few...</td>\n",
       "    </tr>\n",
       "    <tr>\n",
       "      <th>225529</th>\n",
       "      <td>B002ZX1U9A</td>\n",
       "      <td>A245HC4T5J97WG</td>\n",
       "      <td>Logan DeAngelis</td>\n",
       "      <td>0</td>\n",
       "      <td>0</td>\n",
       "      <td>5</td>\n",
       "      <td>1306540800</td>\n",
       "      <td>Great Coffee at a Great price</td>\n",
       "      <td>I have to admit, I first purchased these Hazel...</td>\n",
       "    </tr>\n",
       "    <tr>\n",
       "      <th>485488</th>\n",
       "      <td>B001RVFERK</td>\n",
       "      <td>AVABPJCKE2MR5</td>\n",
       "      <td>spal</td>\n",
       "      <td>0</td>\n",
       "      <td>0</td>\n",
       "      <td>4</td>\n",
       "      <td>1314921600</td>\n",
       "      <td>Popchips Jalapeno flavor</td>\n",
       "      <td>I bought a case of jalapeno chips as I love th...</td>\n",
       "    </tr>\n",
       "  </tbody>\n",
       "</table>\n",
       "</div>"
      ],
      "text/plain": [
       "         ProductId          UserId                ProfileName  HelpfulnessNumerator  HelpfulnessDenominator  Prediction        Time                        Summary                                               Text\n",
       "Id                                                                                                                                                                                                                   \n",
       "492346  B001VNP0Y6   AEZRVY3CV52UZ  Corey Wright \"Democratus\"                     3                       3           5  1320537600             Just what I needed  I got them in a very timely manner and they're...\n",
       "343811  B008J1HO4C  A18VZYSLOUO060    D. Simpson \"Frugal SOB\"                     2                       2           5  1204329600         Most excellent oatmeal  McCann's Steel Cut Oatmeal is the perfect brea...\n",
       "347257  B000FFIL60  A28Y1M7GRG0I9M        Real Comments \"Lin\"                     0                       0           4  1318464000                    Quality Tea  I would recommend it. Quality pearls and a few...\n",
       "225529  B002ZX1U9A  A245HC4T5J97WG            Logan DeAngelis                     0                       0           5  1306540800  Great Coffee at a Great price  I have to admit, I first purchased these Hazel...\n",
       "485488  B001RVFERK   AVABPJCKE2MR5                       spal                     0                       0           4  1314921600       Popchips Jalapeno flavor  I bought a case of jalapeno chips as I love th..."
      ]
     },
     "execution_count": 79,
     "metadata": {},
     "output_type": "execute_result"
    }
   ],
   "source": [
    "train_df = pd.read_csv(\"data/train.csv\", sep=',',encoding='latin1', parse_dates=['Time'], dayfirst=True, index_col='Id')\n",
    "train_df[:5]"
   ]
  },
  {
   "cell_type": "code",
   "execution_count": 80,
   "metadata": {
    "collapsed": false
   },
   "outputs": [
    {
     "name": "stdout",
     "output_type": "stream",
     "text": [
      "<class 'pandas.core.frame.DataFrame'>\n",
      "Int64Index: 454760 entries, 492346 to 306406\n",
      "Data columns (total 9 columns):\n",
      "ProductId                 454760 non-null object\n",
      "UserId                    454760 non-null object\n",
      "ProfileName               454744 non-null object\n",
      "HelpfulnessNumerator      454760 non-null int64\n",
      "HelpfulnessDenominator    454760 non-null int64\n",
      "Prediction                454760 non-null int64\n",
      "Time                      454760 non-null object\n",
      "Summary                   454739 non-null object\n",
      "Text                      454760 non-null object\n",
      "dtypes: int64(3), object(6)\n",
      "memory usage: 34.7+ MB\n"
     ]
    }
   ],
   "source": [
    "train_df.info()"
   ]
  },
  {
   "cell_type": "markdown",
   "metadata": {},
   "source": [
    "Vemos algunas estadisticas de las columnas numericas.<br>\n",
    "<li>Notar que tenemos 454.760 filas/observaciones</li>\n",
    "<li>También notar que tanto HelpfunessNumerator como HelpfulnessNumerator tienen valores (ver max) que superan excesivamente la media y la desviación standard no es grande. <b>HABRÍA QUE VER QUÉ HACEMOS CON ESTOS DATOS EN CASO DE INCLUIRLOS EN EL ANÁLISIS (duperar, eliminar anomalias, suponer criterio de eliminación)</b></li>"
   ]
  },
  {
   "cell_type": "code",
   "execution_count": 35,
   "metadata": {
    "collapsed": false
   },
   "outputs": [
    {
     "data": {
      "text/html": [
       "<div>\n",
       "<table border=\"1\" class=\"dataframe\">\n",
       "  <thead>\n",
       "    <tr style=\"text-align: right;\">\n",
       "      <th></th>\n",
       "      <th>HelpfulnessNumerator</th>\n",
       "      <th>HelpfulnessDenominator</th>\n",
       "      <th>Prediction</th>\n",
       "    </tr>\n",
       "  </thead>\n",
       "  <tbody>\n",
       "    <tr>\n",
       "      <th>count</th>\n",
       "      <td>454760.000000</td>\n",
       "      <td>454760.000000</td>\n",
       "      <td>454760.000000</td>\n",
       "    </tr>\n",
       "    <tr>\n",
       "      <th>mean</th>\n",
       "      <td>1.757674</td>\n",
       "      <td>2.243447</td>\n",
       "      <td>4.182993</td>\n",
       "    </tr>\n",
       "    <tr>\n",
       "      <th>std</th>\n",
       "      <td>7.903720</td>\n",
       "      <td>8.546431</td>\n",
       "      <td>1.310285</td>\n",
       "    </tr>\n",
       "    <tr>\n",
       "      <th>min</th>\n",
       "      <td>0.000000</td>\n",
       "      <td>0.000000</td>\n",
       "      <td>1.000000</td>\n",
       "    </tr>\n",
       "    <tr>\n",
       "      <th>25%</th>\n",
       "      <td>0.000000</td>\n",
       "      <td>0.000000</td>\n",
       "      <td>4.000000</td>\n",
       "    </tr>\n",
       "    <tr>\n",
       "      <th>50%</th>\n",
       "      <td>0.000000</td>\n",
       "      <td>1.000000</td>\n",
       "      <td>5.000000</td>\n",
       "    </tr>\n",
       "    <tr>\n",
       "      <th>75%</th>\n",
       "      <td>2.000000</td>\n",
       "      <td>2.000000</td>\n",
       "      <td>5.000000</td>\n",
       "    </tr>\n",
       "    <tr>\n",
       "      <th>max</th>\n",
       "      <td>866.000000</td>\n",
       "      <td>923.000000</td>\n",
       "      <td>5.000000</td>\n",
       "    </tr>\n",
       "  </tbody>\n",
       "</table>\n",
       "</div>"
      ],
      "text/plain": [
       "       HelpfulnessNumerator  HelpfulnessDenominator     Prediction\n",
       "count         454760.000000           454760.000000  454760.000000\n",
       "mean               1.757674                2.243447       4.182993\n",
       "std                7.903720                8.546431       1.310285\n",
       "min                0.000000                0.000000       1.000000\n",
       "25%                0.000000                0.000000       4.000000\n",
       "50%                0.000000                1.000000       5.000000\n",
       "75%                2.000000                2.000000       5.000000\n",
       "max              866.000000              923.000000       5.000000"
      ]
     },
     "execution_count": 35,
     "metadata": {},
     "output_type": "execute_result"
    }
   ],
   "source": [
    "train_df.describe()"
   ]
  },
  {
   "cell_type": "markdown",
   "metadata": {},
   "source": [
    "Buscamos cuantas filas de las columnas mencionadas superan cierto umbral"
   ]
  },
  {
   "cell_type": "code",
   "execution_count": 58,
   "metadata": {
    "collapsed": false
   },
   "outputs": [
    {
     "data": {
      "text/plain": [
       "ProductId                 312\n",
       "UserId                    312\n",
       "ProfileName               312\n",
       "HelpfulnessNumerator      312\n",
       "HelpfulnessDenominator    312\n",
       "Prediction                312\n",
       "Time                      312\n",
       "Summary                   312\n",
       "Text                      312\n",
       "dtype: int64"
      ]
     },
     "execution_count": 58,
     "metadata": {},
     "output_type": "execute_result"
    }
   ],
   "source": [
    "train_df[train_df['HelpfulnessNumerator'] > 100].count()"
   ]
  },
  {
   "cell_type": "code",
   "execution_count": 59,
   "metadata": {
    "collapsed": false
   },
   "outputs": [
    {
     "data": {
      "text/plain": [
       "ProductId                 357\n",
       "UserId                    357\n",
       "ProfileName               357\n",
       "HelpfulnessNumerator      357\n",
       "HelpfulnessDenominator    357\n",
       "Prediction                357\n",
       "Time                      357\n",
       "Summary                   357\n",
       "Text                      357\n",
       "dtype: int64"
      ]
     },
     "execution_count": 59,
     "metadata": {},
     "output_type": "execute_result"
    }
   ],
   "source": [
    "train_df[train_df['HelpfulnessDenominator'] > 100].count()"
   ]
  },
  {
   "cell_type": "markdown",
   "metadata": {},
   "source": [
    "Pensé que iban a ser más <br><br>\n",
    "Imprimimos la cantidad de valores nulos de cada columna"
   ]
  },
  {
   "cell_type": "code",
   "execution_count": 37,
   "metadata": {
    "collapsed": false
   },
   "outputs": [
    {
     "data": {
      "text/plain": [
       "ProductId                  0\n",
       "UserId                     0\n",
       "ProfileName               16\n",
       "HelpfulnessNumerator       0\n",
       "HelpfulnessDenominator     0\n",
       "Prediction                 0\n",
       "Time                       0\n",
       "Summary                   21\n",
       "Text                       0\n",
       "dtype: int64"
      ]
     },
     "execution_count": 37,
     "metadata": {},
     "output_type": "execute_result"
    }
   ],
   "source": [
    "data_df.isnull().sum()"
   ]
  },
  {
   "cell_type": "markdown",
   "metadata": {},
   "source": [
    "Hacemos un grafico"
   ]
  },
  {
   "cell_type": "code",
   "execution_count": 70,
   "metadata": {
    "collapsed": false
   },
   "outputs": [
    {
     "data": {
      "text/plain": [
       "<matplotlib.axes._subplots.AxesSubplot at 0x7fa5c8a35630>"
      ]
     },
     "execution_count": 70,
     "metadata": {},
     "output_type": "execute_result"
    },
    {
     "data": {
      "image/png": "[encoded data removed]",
      "text/plain": [
       "<matplotlib.figure.Figure at 0x7fa5c984a668>"
      ]
     },
     "metadata": {},
     "output_type": "display_data"
    }
   ],
   "source": [
    "data_df['Prediction'][:10].plot()"
   ]
  },
  {
   "cell_type": "markdown",
   "metadata": {},
   "source": [
    "Parece ser que hay Ids repetidos. ¿Esto será asi?<br>\n",
    "Es probable que este graficando al revés. Pruebo indexando las predicciones."
   ]
  },
  {
   "cell_type": "code",
   "execution_count": 81,
   "metadata": {
    "collapsed": false
   },
   "outputs": [
    {
     "data": {
      "text/plain": [
       "<matplotlib.axes._subplots.AxesSubplot at 0x7fa5bf6ae160>"
      ]
     },
     "execution_count": 81,
     "metadata": {},
     "output_type": "execute_result"
    },
    {
     "data": {
      "image/png": "[encoded data removed]",
      "text/plain": [
       "<matplotlib.figure.Figure at 0x7fa5b66f5780>"
      ]
     },
     "metadata": {},
     "output_type": "display_data"
    }
   ],
   "source": [
    "train_df = pd.read_csv(\"data/train.csv\", sep=',',encoding='latin1', parse_dates=['Time'], dayfirst=True, index_col='Prediction')\n",
    "train_df['Id'][:10].plot()"
   ]
  },
  {
   "cell_type": "markdown",
   "metadata": {},
   "source": [
    "Estoy haciendo algo mal. Vuelvo al df anterior."
   ]
  },
  {
   "cell_type": "code",
   "execution_count": null,
   "metadata": {
    "collapsed": true
   },
   "outputs": [],
   "source": [
    "train_df = pd.read_csv(\"data/train.csv\", sep=',',encoding='latin1', parse_dates=['Time'], dayfirst=True, index_col='Id')\n",
    "train_df[:5]"
   ]
  },
  {
   "cell_type": "code",
   "execution_count": null,
   "metadata": {
    "collapsed": true
   },
   "outputs": [],
   "source": []
  }
 ],
 "metadata": {
  "kernelspec": {
   "display_name": "Python 3",
   "language": "python",
   "name": "python3"
  },
  "language_info": {
   "codemirror_mode": {
    "name": "ipython",
    "version": 3
   },
   "file_extension": ".py",
   "mimetype": "text/x-python",
   "name": "python",
   "nbconvert_exporter": "python",
   "pygments_lexer": "ipython3",
   "version": "3.5.2"
  }
 },
 "nbformat": 4,
 "nbformat_minor": 0
}
