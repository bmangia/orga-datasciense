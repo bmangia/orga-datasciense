{
 "cells": [
  {
   "cell_type": "code",
   "execution_count": 1,
   "metadata": {
    "collapsed": false
   },
   "outputs": [
    {
     "name": "stdout",
     "output_type": "stream",
     "text": [
      "I have to admit, I first purchased these Hazelnut K-Cups because of the low price. I had to pick some up for the office, and the price was right. I was very pleasantly surprised with the coffee! Better flavor than some K-Cups that cost a lot more.\n"
     ]
    }
   ],
   "source": [
    "import pandas as pd\n",
    "from matplotlib import pyplot as plt\n",
    "\n",
    "data_train = pd.read_csv(\"data/train.csv\", header=0, sep=',',encoding='latin1')\n",
    "\n",
    "print(data_train['Text'][3])"
   ]
  },
  {
   "cell_type": "markdown",
   "metadata": {},
   "source": [
    "Limpiar texto <br>\n",
    "Revisando los textos aleatoriamente no parece que tuviesen markups. <br>\n",
    "Convertir a lowecase y splitear las palabras <br>\n",
    "Por ultimo eliminar las stopwords"
   ]
  },
  {
   "cell_type": "code",
   "execution_count": 5,
   "metadata": {
    "collapsed": false
   },
   "outputs": [
    {
     "name": "stdout",
     "output_type": "stream",
     "text": [
      "NLTK Downloader\n",
      "---------------------------------------------------------------------------\n",
      "    d) Download   l) List    u) Update   c) Config   h) Help   q) Quit\n",
      "---------------------------------------------------------------------------\n",
      "Downloader> d\n",
      "\n",
      "Download which package (l=list; x=cancel)?\n",
      "  Identifier> l\n",
      "Packages:\n",
      "  [ ] averaged_perceptron_tagger_ru Averaged Perceptron Tagger (Russian)\n",
      "  [ ] nonbreaking_prefixes Non-Breaking Prefixes (Moses Decoder)\n",
      "  [-] panlex_lite......... PanLex Lite Corpus\n",
      "  [ ] pe08................ Cross-Framework and Cross-Domain Parser\n",
      "                           Evaluation Shared Task\n",
      "  [ ] perluniprops........ perluniprops: Index of Unicode Version 7.0.0\n",
      "                           character properties in Perl\n",
      "  [ ] porter_test......... Porter Stemmer Test Files\n",
      "  [ ] vader_lexicon....... VADER Sentiment Lexicon\n",
      "\n",
      "Collections:\n",
      "  [-] all-corpora......... All the corpora\n",
      "  [-] all................. All packages\n",
      "\n",
      "([*] marks installed packages; [-] marks out-of-date or corrupt packages)\n",
      "\n",
      "Download which package (l=list; x=cancel)?\n",
      "  Identifier> q\n",
      "\n",
      "---------------------------------------------------------------------------\n",
      "    d) Download   l) List    u) Update   c) Config   h) Help   q) Quit\n",
      "---------------------------------------------------------------------------\n",
      "Downloader> q\n"
     ]
    }
   ],
   "source": [
    "import nltk #Python Natural Language Toolkit (NLTK)\n",
    "nltk.download()  # Download text data sets, including stop words\n",
    "from nltk.corpus import stopwords"
   ]
  },
  {
   "cell_type": "code",
   "execution_count": 7,
   "metadata": {
    "collapsed": false
   },
   "outputs": [
    {
     "name": "stdout",
     "output_type": "stream",
     "text": [
      "admit, first purchased hazelnut k-cups low price. pick office, price right. pleasantly surprised coffee! better flavor k-cups cost lot more.\n"
     ]
    }
   ],
   "source": [
    "def clean_text( row ):\n",
    "    \n",
    "    split_words = row.lower().split()                             \n",
    "    \n",
    "    stops = set(stopwords.words(\"english\"))\n",
    "    return_words = [w for w in split_words if not w in stops]   \n",
    "    \n",
    "    return( \" \".join( return_words ))  \n",
    "\n",
    "print(clean_text(data_train['Text'][3]))"
   ]
  },
  {
   "cell_type": "code",
   "execution_count": 10,
   "metadata": {
    "collapsed": false
   },
   "outputs": [
    {
     "name": "stdout",
     "output_type": "stream",
     "text": [
      "0         got timely manner they're large green. seems i...\n",
      "1         mccann's steel cut oatmeal perfect breakfast p...\n",
      "2         would recommend it. quality pearls make strong...\n",
      "3         admit, first purchased hazelnut k-cups low pri...\n",
      "4         bought case jalapeno chips love flavor. produc...\n",
      "5         doggie breath dog. people always commenting do...\n",
      "6         tried pasta viewing dr. oz show. purchased cou...\n",
      "7         check sugar content buy! 27 grams/box - amount...\n",
      "8         drink iron goddess oolong pretty often, actual...\n",
      "9         maybe it's due tendency prefer noodles little ...\n",
      "10        one worse tasting soups i've ever eaten. hated...\n",
      "11        love product, read label carefully, realize pr...\n",
      "12        ordered excited them. okay 12 bags much myself...\n",
      "13        like coffee strong bitter. good coffee. using ...\n",
      "14        ghee delicious. little goes long way intensity...\n",
      "15        5 years, especially winter months, used come s...\n",
      "16        product perfect volunteer recognition event ho...\n",
      "17        received farmers market organic pumpkin 12 pac...\n",
      "18        expecting two packs like description said, ins...\n",
      "19        great fruit soda, surprise used artificially f...\n",
      "20        like product, come on.... $38.00 little creame...\n",
      "21        sent mother thank she's done family, loved it,...\n",
      "22        taste chips incredible. problem bags mostly fi...\n",
      "23        treat wonderful healthy treats. crispy tasty. ...\n",
      "24        pros:<br />1. clumps well.<br />2. easy get: f...\n",
      "25        always keep one purse never know i'll want swe...\n",
      "26        orgain healthier drinks, says, awesomely delic...\n",
      "27        trying watch calories, good little sweet. care...\n",
      "28        can't stop eating stuff! taste simply melt-in-...\n",
      "29        love product, first supose get 5 20th made mad...\n",
      "                                ...                        \n",
      "454730    sauce medium heat everyday use. excellent roas...\n",
      "454731    canned chipotles smoked, pickled jalapeno chil...\n",
      "454732    great product, looking for. used potato starch...\n",
      "454733    we're likely buy don't even bother specify swe...\n",
      "454734    bonsai nice plant, arrive good condition instr...\n",
      "454735    bought make vietnamese coffee. taste okay, lov...\n",
      "454736    product good value money; costs less local gro...\n",
      "454737    love flavor product best part sugar free. came...\n",
      "454738    nothing particulary outstanding chocolate, it'...\n",
      "454739    plenty reviews sauce feel good job describing ...\n",
      "454740    great flavor, much stronger flavor extract. ne...\n",
      "454741    great product....like little sealed bag...supe...\n",
      "454742    packed sausage creamy smooth gravy product riv...\n",
      "454743    great order. unit price right around $1.60 muc...\n",
      "454744    started buying dog loves them. easy teeth (not...\n",
      "454745    discovered veja-links 6 weeks camping trip mi ...\n",
      "454746    got local pet store, carry quality items (made...\n",
      "454747    started loving oolong tea discovered bottled p...\n",
      "454748    reading reviews, got nervous opened bag recent...\n",
      "454749    tea great. cook gallon batches sweeten agave n...\n",
      "454750    don't really care maple syrup, maple sugar dif...\n",
      "454751    dog absolutely loves treats. sometimes offer t...\n",
      "454752    six month's old favorite baby food far! banana...\n",
      "454753    really like coffee. nice flavor dark. like com...\n",
      "454754    enjoy hazlenut coffee one you!<br />my husband...\n",
      "454755    love blue corn tortillas products. eating guil...\n",
      "454756    wafer cookies every bit good ones used eat whe...\n",
      "454757    gluten free bread cookbooks. cook books gave r...\n",
      "454758    tried several maple sugar products past, far b...\n",
      "454759    \"fresh\" product. cats (nine total) normally lo...\n",
      "Name: Text, dtype: object\n"
     ]
    }
   ],
   "source": [
    "data_train['Text'] = data_train.apply(lambda row: clean_text(row['Text']), axis=1)\n"
   ]
  },
  {
   "cell_type": "code",
   "execution_count": 11,
   "metadata": {
    "collapsed": false
   },
   "outputs": [
    {
     "name": "stdout",
     "output_type": "stream",
     "text": [
      "admit, first purchased hazelnut k-cups low price. pick office, price right. pleasantly surprised coffee! better flavor k-cups cost lot more.\n"
     ]
    }
   ],
   "source": [
    "print(data_train['Text'][3])"
   ]
  },
  {
   "cell_type": "markdown",
   "metadata": {},
   "source": []
  }
 ],
 "metadata": {
  "kernelspec": {
   "display_name": "Python 3",
   "language": "python",
   "name": "python3"
  },
  "language_info": {
   "codemirror_mode": {
    "name": "ipython",
    "version": 3
   },
   "file_extension": ".py",
   "mimetype": "text/x-python",
   "name": "python",
   "nbconvert_exporter": "python",
   "pygments_lexer": "ipython3",
   "version": "3.5.2"
  }
 },
 "nbformat": 4,
 "nbformat_minor": 0
}
