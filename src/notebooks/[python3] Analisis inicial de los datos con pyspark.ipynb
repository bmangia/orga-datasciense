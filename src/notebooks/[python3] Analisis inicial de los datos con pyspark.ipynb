{
 "cells": [
  {
   "cell_type": "markdown",
   "metadata": {},
   "source": [
    "# Analisis inicial de datos con Spark\n",
    "\n",
    "## Introduccion\n",
    "\n",
    "Para la entrega del diseño inicial debemos tener explicatados en el documentos los siguiente pasos:\n",
    "\n",
    "1- Clasificar el problema. Que tipo de problema tenemos? Regresion o clasificacion? Por que? <br>\n",
    "\n",
    "2- Tenemos los datos. <br>\n",
    "2.1 Hay que depurarlos. <br>\n",
    "2.2 Detectar y eliminar anomalias <br>\n",
    "2.3 Valores faltantes para ciertos atributos <br>\n",
    "\n",
    "3- Explorar datos (no se procesan) <br>\n",
    "3.1 Analizar la estructura <br>\n",
    "3.2 Navegar datos <br>\n",
    "3.3 Resumen estadistico. <br>\n",
    "3.4 Visualizar datos <br>\n",
    "\n",
    "4- Aplicar a los datos el algoritmo necesario <br>\n",
    "\n",
    "5- Comunicar resultados <br>\n",
    "\n",
    "Una de las herramientas que aprendimos y nos resulta sencilla es el Map-Reduce de Spark.<br>\n",
    "En el caso de necesitar graficos podemos pedirle al Spark Context que nos devuelva los datos y luego se los pasamos a una libreria de ploteo de Python3.\n",
    "\n",
    "\n",
    "## Desarrollo"
   ]
  },
  {
   "cell_type": "code",
   "execution_count": 1,
   "metadata": {
    "collapsed": true
   },
   "outputs": [],
   "source": [
    "import pyspark\n",
    "\n",
    "try: \n",
    "    type(sc)\n",
    "except NameError:\n",
    "    sc = pyspark.SparkContext('local[*]')    "
   ]
  },
  {
   "cell_type": "code",
   "execution_count": null,
   "metadata": {
    "collapsed": true
   },
   "outputs": [],
   "source": []
  }
 ],
 "metadata": {
  "kernelspec": {
   "display_name": "Python 3",
   "language": "python",
   "name": "python3"
  },
  "language_info": {
   "codemirror_mode": {
    "name": "ipython",
    "version": 3
   },
   "file_extension": ".py",
   "mimetype": "text/x-python",
   "name": "python",
   "nbconvert_exporter": "python",
   "pygments_lexer": "ipython3",
   "version": "3.5.2"
  }
 },
 "nbformat": 4,
 "nbformat_minor": 0
}
